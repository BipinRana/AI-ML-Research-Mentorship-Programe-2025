{
 "cells": [
  {
   "cell_type": "code",
   "execution_count": 1,
   "id": "41ef60f9-8a54-4dbf-89bd-f0da45be8065",
   "metadata": {},
   "outputs": [],
   "source": [
    "import numpy as np"
   ]
  },
  {
   "cell_type": "code",
   "execution_count": 2,
   "id": "99dcc61e-3825-441e-8f92-05b56b0e6025",
   "metadata": {},
   "outputs": [],
   "source": [
    "a = np.array([1,2,3,4,5,6])\n",
    "b = np.array([[1,2],[3,4],[5,6]])\n",
    "c = np.zeros((0,2))\n",
    "d = np.empty((5,6),dtype=int)\n"
   ]
  },
  {
   "cell_type": "code",
   "execution_count": null,
   "id": "e2eb05ba-7db4-4c74-b32a-c7b9f06e8a29",
   "metadata": {},
   "outputs": [
    {
     "data": {
      "text/plain": [
       "array([1, 2, 3, 4, 5, 6])"
      ]
     },
     "execution_count": 16,
     "metadata": {},
     "output_type": "execute_result"
    }
   ],
   "source": [
    "a"
   ]
  },
  {
   "cell_type": "code",
   "execution_count": 17,
   "id": "ff30a827-50fb-4eba-b948-97c58c51f4e1",
   "metadata": {},
   "outputs": [
    {
     "data": {
      "text/plain": [
       "array([[1, 2],\n",
       "       [3, 4],\n",
       "       [5, 6]])"
      ]
     },
     "execution_count": 17,
     "metadata": {},
     "output_type": "execute_result"
    }
   ],
   "source": [
    "b"
   ]
  },
  {
   "cell_type": "code",
   "execution_count": 18,
   "id": "b0585582-0b3b-44db-a90e-a3458caa3706",
   "metadata": {},
   "outputs": [
    {
     "data": {
      "text/plain": [
       "array([], shape=(0, 2), dtype=float64)"
      ]
     },
     "execution_count": 18,
     "metadata": {},
     "output_type": "execute_result"
    }
   ],
   "source": [
    "c"
   ]
  },
  {
   "cell_type": "code",
   "execution_count": 19,
   "id": "b171f83e-8413-4bb7-985c-08e64ad402b5",
   "metadata": {},
   "outputs": [
    {
     "data": {
      "text/plain": [
       "array([[      3026068188712,                 205,                   0,\n",
       "                          0,   25896032864829440, 4189022153932546683],\n",
       "       [3543545871972049440, 4195437666033020210, 3833458496703705140,\n",
       "        2318265678939828275, 2478221553439042850, 3545288623737937978],\n",
       "       [3990863503164453175, 3918744542737740845, 3690197646408771123,\n",
       "        2477321082607330357, 8385534776637005868, 7287422581096149113],\n",
       "       [8241417393971357048, 3180232325849248101, 8028074750225097248,\n",
       "        7018122393524249198, 7147543803067511910, 3271356283909661492],\n",
       "       [3618697470305919544, 4063202563773706808, 7310315409581548131,\n",
       "        2322206376885055090, 8243124581912289826, 2459029316100385139]])"
      ]
     },
     "execution_count": 19,
     "metadata": {},
     "output_type": "execute_result"
    }
   ],
   "source": [
    "d"
   ]
  },
  {
   "cell_type": "code",
   "execution_count": 24,
   "id": "42477710-dcdd-4b0a-9f16-b535b5b9bbf1",
   "metadata": {},
   "outputs": [],
   "source": [
    "e= np.eye(4,4) #e= np.eye(N=4)\n",
    "f= np.eye(4,4,k=1,dtype=int)\n"
   ]
  },
  {
   "cell_type": "code",
   "execution_count": 25,
   "id": "3751b551-9d2e-444c-85b8-ce87b555f722",
   "metadata": {},
   "outputs": [
    {
     "data": {
      "text/plain": [
       "array([[1., 0., 0., 0.],\n",
       "       [0., 1., 0., 0.],\n",
       "       [0., 0., 1., 0.],\n",
       "       [0., 0., 0., 1.]])"
      ]
     },
     "execution_count": 25,
     "metadata": {},
     "output_type": "execute_result"
    }
   ],
   "source": [
    "e\n"
   ]
  },
  {
   "cell_type": "code",
   "execution_count": 26,
   "id": "b24c1595-ccdb-4a2b-889f-c5f2563f9988",
   "metadata": {},
   "outputs": [
    {
     "data": {
      "text/plain": [
       "array([[0, 1, 0, 0],\n",
       "       [0, 0, 1, 0],\n",
       "       [0, 0, 0, 1],\n",
       "       [0, 0, 0, 0]])"
      ]
     },
     "execution_count": 26,
     "metadata": {},
     "output_type": "execute_result"
    }
   ],
   "source": [
    "f"
   ]
  },
  {
   "cell_type": "markdown",
   "id": "b67952f9-c94f-4aa6-a098-3519d2aab7bd",
   "metadata": {},
   "source": [
    "# Dimensionality reduction"
   ]
  },
  {
   "cell_type": "code",
   "execution_count": 42,
   "id": "bb182eaa-4acd-4dcd-9adf-185eff167d91",
   "metadata": {},
   "outputs": [],
   "source": [
    "g = np.arange(0,20,1)"
   ]
  },
  {
   "cell_type": "code",
   "execution_count": 43,
   "id": "6c5a8a3b-c219-4fcb-a0e6-924b41bd8d3f",
   "metadata": {},
   "outputs": [],
   "source": [
    "h= np.reshape(g,(4,5))"
   ]
  },
  {
   "cell_type": "code",
   "execution_count": 38,
   "id": "0b613791-fcc3-4f4d-b8ac-86c7df3c38cf",
   "metadata": {},
   "outputs": [
    {
     "data": {
      "text/plain": [
       "array([ 0,  5, 10, 15, 20, 25, 30, 35, 40, 45, 50])"
      ]
     },
     "execution_count": 38,
     "metadata": {},
     "output_type": "execute_result"
    }
   ],
   "source": [
    "np.linspace(0,50,num=11,dtype=int)"
   ]
  },
  {
   "cell_type": "code",
   "execution_count": 44,
   "id": "71369b0d-6935-4b88-9366-36363167c234",
   "metadata": {},
   "outputs": [
    {
     "data": {
      "text/plain": [
       "array([ 4,  9, 14, 19])"
      ]
     },
     "execution_count": 44,
     "metadata": {},
     "output_type": "execute_result"
    }
   ],
   "source": [
    "h[:,4]"
   ]
  },
  {
   "cell_type": "code",
   "execution_count": 46,
   "id": "355b7e19-c1fb-41db-948c-89291fb2a2d5",
   "metadata": {},
   "outputs": [],
   "source": [
    "array1= np.arange(10,25)"
   ]
  },
  {
   "cell_type": "code",
   "execution_count": 47,
   "id": "7b2ec332-be79-43a9-b5c1-2ce7f5e54f70",
   "metadata": {},
   "outputs": [
    {
     "data": {
      "text/plain": [
       "array([10, 11, 12, 13, 14, 15, 16, 17, 18, 19, 20, 21, 22, 23, 24])"
      ]
     },
     "execution_count": 47,
     "metadata": {},
     "output_type": "execute_result"
    }
   ],
   "source": [
    "array1"
   ]
  },
  {
   "cell_type": "code",
   "execution_count": 49,
   "id": "0e499405-e39a-418d-aa1e-f26d71a1ca6c",
   "metadata": {},
   "outputs": [
    {
     "data": {
      "text/plain": [
       "array([10, 14, 15])"
      ]
     },
     "execution_count": 49,
     "metadata": {},
     "output_type": "execute_result"
    }
   ],
   "source": [
    "array1[[0,4,5]]"
   ]
  },
  {
   "cell_type": "code",
   "execution_count": 52,
   "id": "4713baca-6a45-4763-896d-20bdffc5bafd",
   "metadata": {},
   "outputs": [],
   "source": [
    "array2=np.array([1,2,3,4,5])"
   ]
  },
  {
   "cell_type": "code",
   "execution_count": 53,
   "id": "98452d3a-2868-454b-bdef-dbc7fe6282d8",
   "metadata": {},
   "outputs": [
    {
     "data": {
      "text/plain": [
       "array([1, 2])"
      ]
     },
     "execution_count": 53,
     "metadata": {},
     "output_type": "execute_result"
    }
   ],
   "source": [
    "array2[[True,True,False,False,False]]"
   ]
  },
  {
   "cell_type": "code",
   "execution_count": 55,
   "id": "371b1082-18de-4c84-b07a-b8c449cd62a3",
   "metadata": {},
   "outputs": [
    {
     "data": {
      "text/plain": [
       "array([4, 5])"
      ]
     },
     "execution_count": 55,
     "metadata": {},
     "output_type": "execute_result"
    }
   ],
   "source": [
    "array2[array2>3]"
   ]
  },
  {
   "cell_type": "code",
   "execution_count": null,
   "id": "5298e709-0dcc-4bad-b4dd-adc49ca2a39d",
   "metadata": {},
   "outputs": [],
   "source": []
  }
 ],
 "metadata": {
  "kernelspec": {
   "display_name": "Python 3 (ipykernel)",
   "language": "python",
   "name": "python3"
  },
  "language_info": {
   "codemirror_mode": {
    "name": "ipython",
    "version": 3
   },
   "file_extension": ".py",
   "mimetype": "text/x-python",
   "name": "python",
   "nbconvert_exporter": "python",
   "pygments_lexer": "ipython3",
   "version": "3.13.0"
  }
 },
 "nbformat": 4,
 "nbformat_minor": 5
}
